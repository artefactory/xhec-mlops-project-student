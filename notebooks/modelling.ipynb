{
 "cells": [
  {
   "cell_type": "markdown",
   "metadata": {},
   "source": [
    "# Model to predict the age of Abalone"
   ]
  },
  {
   "attachments": {},
   "cell_type": "markdown",
   "metadata": {},
   "source": [
    "In this notebook, you should implement a first version of a working machine learning model to predict the age of an Abalone.\n",
    "\n",
    "A few guidelines:\n",
    "- The model does not have to be complex. A simple linear regression model is enough.\n",
    "- You should use MLflow to track your experiments. You can use the MLflow UI to compare your experiments.\n",
    "- Do not push any MLflow data to the repository. Only the code to run the experiments is interesting and should be pushed."
   ]
  },
  {
   "cell_type": "markdown",
   "metadata": {},
   "source": [
    "### 01 - Import Statements"
   ]
  },
  {
   "cell_type": "code",
   "execution_count": 1,
   "metadata": {},
   "outputs": [],
   "source": [
    "import mlflow\n",
    "import numpy as np\n",
    "import pandas as pd\n",
    "import mlflow.sklearn\n",
    "from sklearn.svm import SVR\n",
    "from sklearn.pipeline import Pipeline\n",
    "from catboost import CatBoostRegressor\n",
    "from sklearn.compose import ColumnTransformer\n",
    "from sklearn.linear_model import LinearRegression\n",
    "from sklearn.ensemble import RandomForestRegressor\n",
    "from sklearn.model_selection import train_test_split\n",
    "from sklearn.metrics import mean_squared_error, r2_score\n",
    "from sklearn.preprocessing import StandardScaler, OneHotEncoder"
   ]
  },
  {
   "cell_type": "markdown",
   "metadata": {},
   "source": [
    "### 02 - Loading Dataset"
   ]
  },
  {
   "cell_type": "code",
   "execution_count": 2,
   "metadata": {},
   "outputs": [
    {
     "data": {
      "text/html": [
       "<div>\n",
       "<style scoped>\n",
       "    .dataframe tbody tr th:only-of-type {\n",
       "        vertical-align: middle;\n",
       "    }\n",
       "\n",
       "    .dataframe tbody tr th {\n",
       "        vertical-align: top;\n",
       "    }\n",
       "\n",
       "    .dataframe thead th {\n",
       "        text-align: right;\n",
       "    }\n",
       "</style>\n",
       "<table border=\"1\" class=\"dataframe\">\n",
       "  <thead>\n",
       "    <tr style=\"text-align: right;\">\n",
       "      <th></th>\n",
       "      <th>Sex</th>\n",
       "      <th>Length</th>\n",
       "      <th>Diameter</th>\n",
       "      <th>Height</th>\n",
       "      <th>Whole weight</th>\n",
       "      <th>Shucked weight</th>\n",
       "      <th>Viscera weight</th>\n",
       "      <th>Shell weight</th>\n",
       "      <th>Rings</th>\n",
       "    </tr>\n",
       "  </thead>\n",
       "  <tbody>\n",
       "    <tr>\n",
       "      <th>0</th>\n",
       "      <td>M</td>\n",
       "      <td>0.455</td>\n",
       "      <td>0.365</td>\n",
       "      <td>0.095</td>\n",
       "      <td>0.5140</td>\n",
       "      <td>0.2245</td>\n",
       "      <td>0.1010</td>\n",
       "      <td>0.150</td>\n",
       "      <td>15</td>\n",
       "    </tr>\n",
       "    <tr>\n",
       "      <th>1</th>\n",
       "      <td>M</td>\n",
       "      <td>0.350</td>\n",
       "      <td>0.265</td>\n",
       "      <td>0.090</td>\n",
       "      <td>0.2255</td>\n",
       "      <td>0.0995</td>\n",
       "      <td>0.0485</td>\n",
       "      <td>0.070</td>\n",
       "      <td>7</td>\n",
       "    </tr>\n",
       "    <tr>\n",
       "      <th>2</th>\n",
       "      <td>F</td>\n",
       "      <td>0.530</td>\n",
       "      <td>0.420</td>\n",
       "      <td>0.135</td>\n",
       "      <td>0.6770</td>\n",
       "      <td>0.2565</td>\n",
       "      <td>0.1415</td>\n",
       "      <td>0.210</td>\n",
       "      <td>9</td>\n",
       "    </tr>\n",
       "    <tr>\n",
       "      <th>3</th>\n",
       "      <td>M</td>\n",
       "      <td>0.440</td>\n",
       "      <td>0.365</td>\n",
       "      <td>0.125</td>\n",
       "      <td>0.5160</td>\n",
       "      <td>0.2155</td>\n",
       "      <td>0.1140</td>\n",
       "      <td>0.155</td>\n",
       "      <td>10</td>\n",
       "    </tr>\n",
       "    <tr>\n",
       "      <th>4</th>\n",
       "      <td>I</td>\n",
       "      <td>0.330</td>\n",
       "      <td>0.255</td>\n",
       "      <td>0.080</td>\n",
       "      <td>0.2050</td>\n",
       "      <td>0.0895</td>\n",
       "      <td>0.0395</td>\n",
       "      <td>0.055</td>\n",
       "      <td>7</td>\n",
       "    </tr>\n",
       "  </tbody>\n",
       "</table>\n",
       "</div>"
      ],
      "text/plain": [
       "  Sex  Length  Diameter  Height  Whole weight  Shucked weight  Viscera weight  \\\n",
       "0   M   0.455     0.365   0.095        0.5140          0.2245          0.1010   \n",
       "1   M   0.350     0.265   0.090        0.2255          0.0995          0.0485   \n",
       "2   F   0.530     0.420   0.135        0.6770          0.2565          0.1415   \n",
       "3   M   0.440     0.365   0.125        0.5160          0.2155          0.1140   \n",
       "4   I   0.330     0.255   0.080        0.2050          0.0895          0.0395   \n",
       "\n",
       "   Shell weight  Rings  \n",
       "0         0.150     15  \n",
       "1         0.070      7  \n",
       "2         0.210      9  \n",
       "3         0.155     10  \n",
       "4         0.055      7  "
      ]
     },
     "execution_count": 2,
     "metadata": {},
     "output_type": "execute_result"
    }
   ],
   "source": [
    "data_path = '../../abalone.csv'\n",
    "df = pd.read_csv(data_path)\n",
    "df.head()"
   ]
  },
  {
   "cell_type": "markdown",
   "metadata": {},
   "source": [
    "### 03 - Data Preprocessing "
   ]
  },
  {
   "cell_type": "code",
   "execution_count": 3,
   "metadata": {},
   "outputs": [],
   "source": [
    "# Separating target variable from features\n",
    "y = df['Rings'].copy()\n",
    "X = df.drop(columns='Rings', axis=1).copy()\n",
    "\n",
    "# Defining the preprocessor\n",
    "preprocessor = ColumnTransformer(\n",
    "    transformers=[ \n",
    "        ('sex', OneHotEncoder(), ['Sex']), \n",
    "        ('num', StandardScaler(), X.columns.difference(['Sex']))  \n",
    "    ])"
   ]
  },
  {
   "cell_type": "markdown",
   "metadata": {},
   "source": [
    "### 04 - Data model"
   ]
  },
  {
   "cell_type": "code",
   "execution_count": 4,
   "metadata": {},
   "outputs": [
    {
     "name": "stdout",
     "output_type": "stream",
     "text": [
      "                      Model  Train RMSE  Test RMSE  Train R2   Test R2\n",
      "0         Linear Regression    2.187288   2.210428  0.534788  0.548647\n",
      "1             Random Forest    0.792708   2.257935  0.938897  0.529037\n",
      "2  Support Vector Regressor    2.237391   2.256017  0.513231  0.529837\n",
      "3                  CatBoost    1.911039   2.208460  0.644878  0.549450\n"
     ]
    }
   ],
   "source": [
    "# List of models\n",
    "models = [\n",
    "    ('Linear Regression', LinearRegression()),\n",
    "    ('Random Forest', RandomForestRegressor(n_estimators=100, random_state=42)),\n",
    "    ('Support Vector Regressor', SVR(kernel='linear')),\n",
    "    ('CatBoost', CatBoostRegressor(iterations=100, depth=6, learning_rate=0.1, verbose=False))\n",
    "]\n",
    "\n",
    "# Stocking the results\n",
    "results = pd.DataFrame(columns=['Model', 'Train RMSE', 'Test RMSE', 'Train R2', 'Test R2'])\n",
    "\n",
    "# Splitting train and test set\n",
    "X_train, X_test, y_train, y_test = train_test_split(X, y, test_size=0.2, random_state=42)\n",
    "\n",
    "# Test our models\n",
    "for model_name, model in models:\n",
    "\n",
    "    # train and run pipeline \n",
    "    pipeline = Pipeline([\n",
    "        ('preprocessor', preprocessor),\n",
    "        ('model', model)\n",
    "    ])\n",
    "    pipeline.fit(X_train, y_train)\n",
    "    y_train_pred = pipeline.predict(X_train)\n",
    "    y_test_pred = pipeline.predict(X_test)\n",
    "\n",
    "    # Extract and save results \n",
    "    train_rmse = np.sqrt(mean_squared_error(y_train, y_train_pred))\n",
    "    test_rmse = np.sqrt(mean_squared_error(y_test, y_test_pred))\n",
    "    train_r2 = r2_score(y_train, y_train_pred)\n",
    "    test_r2 = r2_score(y_test, y_test_pred)\n",
    "    temp_df = pd.DataFrame({\n",
    "        'Model': [model_name],\n",
    "        'Train RMSE': [train_rmse],\n",
    "        'Test RMSE': [test_rmse],\n",
    "        'Train R2': [train_r2],\n",
    "        'Test R2': [test_r2]\n",
    "    })\n",
    "    results = pd.concat([results, temp_df], ignore_index=True)\n",
    "\n",
    "# Print results\n",
    "print(results)\n"
   ]
  },
  {
   "cell_type": "markdown",
   "metadata": {},
   "source": [
    "### 05 - Tracking experiments on MLFlow"
   ]
  },
  {
   "cell_type": "code",
   "execution_count": 5,
   "metadata": {},
   "outputs": [
    {
     "name": "stdout",
     "output_type": "stream",
     "text": [
      "tracking URI : 'file:///Users/vitrac/Desktop/M2%20HEC/13%20-%20MLops/project/xhec-mlops-project-student/notebooks/mlruns\n"
     ]
    }
   ],
   "source": [
    "print(f\"tracking URI : '{mlflow.get_tracking_uri()}\")"
   ]
  },
  {
   "cell_type": "code",
   "execution_count": 6,
   "metadata": {},
   "outputs": [],
   "source": [
    "from mlflow.tracking import MlflowClient"
   ]
  },
  {
   "cell_type": "code",
   "execution_count": 7,
   "metadata": {},
   "outputs": [
    {
     "name": "stderr",
     "output_type": "stream",
     "text": [
      "2023/10/23 13:34:39 INFO mlflow.tracking.fluent: Experiment with name 'Abalone Project' does not exist. Creating a new experiment.\n"
     ]
    },
    {
     "data": {
      "text/plain": [
       "<Experiment: artifact_location='file:///Users/vitrac/Desktop/M2%20HEC/13%20-%20MLops/project/xhec-mlops-project-student/notebooks/mlruns/868079838670296174', creation_time=1698060879513, experiment_id='868079838670296174', last_update_time=1698060879513, lifecycle_stage='active', name='Abalone Project', tags={}>"
      ]
     },
     "execution_count": 7,
     "metadata": {},
     "output_type": "execute_result"
    }
   ],
   "source": [
    "mlflow.set_experiment(\"Abalone Project\")"
   ]
  },
  {
   "cell_type": "code",
   "execution_count": 8,
   "metadata": {},
   "outputs": [],
   "source": [
    "# Load data\n",
    "df_copy = df.copy()\n",
    "y = df_copy['Rings']\n",
    "X = df_copy.drop(columns='Rings', axis=1)\n",
    "\n",
    "#  Creating preprocessor\n",
    "preprocessor = ColumnTransformer(\n",
    "transformers=[ \n",
    "    ('sex', OneHotEncoder(), ['Sex']), \n",
    "    ('num', StandardScaler(), X.columns.difference(['Sex']))  \n",
    "])\n",
    "    \n",
    "# Splitting train and test set \n",
    "X_train, X_test, y_train, y_test = train_test_split(X, y, test_size=0.2, random_state=42)\n",
    "\n",
    "# Create a dataframe to store results \n",
    "results = pd.DataFrame(columns=['Model', 'Train RMSE', 'Test RMSE'])"
   ]
  },
  {
   "cell_type": "code",
   "execution_count": 9,
   "metadata": {},
   "outputs": [],
   "source": [
    "# Model 1 Test \n",
    "\n",
    "model = LinearRegression()\n",
    "model_name = 'Linear Regression'\n",
    "        \n",
    "# Create pipeline \n",
    "pipeline = Pipeline([\n",
    "    ('preprocessor', preprocessor),\n",
    "    ('model', model)\n",
    "])\n",
    "\n",
    "mlflow.end_run()\n",
    "\n",
    "# Run on MLFlow\n",
    "with mlflow.start_run() as run :\n",
    "\n",
    "    run_id = run.info.run_id\n",
    "    \n",
    "    pipeline.fit(X_train, y_train)\n",
    "    y_train_pred = pipeline.predict(X_train)\n",
    "    y_test_pred = pipeline.predict(X_test)\n",
    "    train_rmse = np.sqrt(mean_squared_error(y_train, y_train_pred))\n",
    "    test_rmse = np.sqrt(mean_squared_error(y_test, y_test_pred))\n",
    "    \n",
    "    model_params = model.get_params() \n",
    "\n",
    "    # Load data on mlflow\n",
    "    mlflow.set_tag(\"model_name\", model_name)\n",
    "    mlflow.sklearn.log_model(model, \"model\")\n",
    "    mlflow.log_params(model_params)\n",
    "    mlflow.log_metric(\"train_rmse\", train_rmse)\n",
    "    mlflow.log_metric(\"test_rmse\", test_rmse)"
   ]
  },
  {
   "cell_type": "code",
   "execution_count": 10,
   "metadata": {},
   "outputs": [],
   "source": [
    "# Model 2 test \n",
    "model = RandomForestRegressor(n_estimators=100, random_state=42)\n",
    "model = \"Random Forest Regressor\"\n",
    "        \n",
    "# Create pipeline \n",
    "pipeline = Pipeline([\n",
    "    ('preprocessor', preprocessor),\n",
    "    ('model', model)\n",
    "])\n",
    "\n",
    "mlflow.end_run()\n",
    "\n",
    "# Run on MLFlow\n",
    "with mlflow.start_run() as run :\n",
    "\n",
    "    run_id = run.info.run_id\n",
    "    \n",
    "    pipeline.fit(X_train, y_train)\n",
    "    y_train_pred = pipeline.predict(X_train)\n",
    "    y_test_pred = pipeline.predict(X_test)\n",
    "    train_rmse = np.sqrt(mean_squared_error(y_train, y_train_pred))\n",
    "    test_rmse = np.sqrt(mean_squared_error(y_test, y_test_pred))\n",
    "    \n",
    "    model_params = model.get_params() \n",
    "\n",
    "    # Load data on mlflow\n",
    "        mlflow.set_tag(\"model_name\", model_name)\n",
    "\n",
    "    mlflow.set_tag(\"model_name\", model_name)\n",
    "    mlflow.sklearn.log_model(model, \"model_name\")\n",
    "    mlflow.log_params(model_params)\n",
    "    mlflow.log_metric(\"train_rmse\", train_rmse)\n",
    "    mlflow.log_metric(\"test_rmse\", test_rmse)"
   ]
  },
  {
   "cell_type": "code",
   "execution_count": 11,
   "metadata": {},
   "outputs": [],
   "source": [
    "# Model 3 test\n",
    "model = SVR(kernel='linear')\n",
    "        \n",
    "# Create pipeline \n",
    "pipeline = Pipeline([\n",
    "    ('preprocessor', preprocessor),\n",
    "    ('model', model)\n",
    "])\n",
    "\n",
    "mlflow.end_run()\n",
    "\n",
    "# Run on MLFlow\n",
    "with mlflow.start_run() as run :\n",
    "\n",
    "    run_id = run.info.run_id\n",
    "    \n",
    "    pipeline.fit(X_train, y_train)\n",
    "    y_train_pred = pipeline.predict(X_train)\n",
    "    y_test_pred = pipeline.predict(X_test)\n",
    "    train_rmse = np.sqrt(mean_squared_error(y_train, y_train_pred))\n",
    "    test_rmse = np.sqrt(mean_squared_error(y_test, y_test_pred))\n",
    "    \n",
    "    model_params = model.get_params() \n",
    "\n",
    "    # Load data on mlflow\n",
    "    mlflow.sklearn.log_model(model, \"model_name\")\n",
    "    mlflow.log_params(model_params)\n",
    "    mlflow.log_metric(\"train_rmse\", train_rmse)\n",
    "    mlflow.log_metric(\"test_rmse\", test_rmse)"
   ]
  },
  {
   "cell_type": "code",
   "execution_count": 12,
   "metadata": {},
   "outputs": [],
   "source": [
    "# Model 4 test \n",
    "model = CatBoostRegressor(n_estimators=100, verbose=False)\n",
    "        \n",
    "# Create pipeline \n",
    "pipeline = Pipeline([\n",
    "    ('preprocessor', preprocessor),\n",
    "    ('model', model)\n",
    "])\n",
    "\n",
    "mlflow.end_run()\n",
    "\n",
    "# Run on MLFlow\n",
    "with mlflow.start_run() as run :\n",
    "\n",
    "    run_id = run.info.run_id\n",
    "    \n",
    "    pipeline.fit(X_train, y_train)\n",
    "    y_train_pred = pipeline.predict(X_train)\n",
    "    y_test_pred = pipeline.predict(X_test)\n",
    "    train_rmse = np.sqrt(mean_squared_error(y_train, y_train_pred))\n",
    "    test_rmse = np.sqrt(mean_squared_error(y_test, y_test_pred))\n",
    "    \n",
    "    model_params = model.get_params() \n",
    "\n",
    "    # Load data on mlflow\n",
    "    mlflow.sklearn.log_model(model, \"model_name\")\n",
    "    mlflow.log_params(model_params)\n",
    "    mlflow.log_metric(\"train_rmse\", train_rmse)\n",
    "    mlflow.log_metric(\"test_rmse\", test_rmse)"
   ]
  },
  {
   "cell_type": "code",
   "execution_count": 13,
   "metadata": {},
   "outputs": [
    {
     "data": {
      "text/plain": [
       "[<Experiment: artifact_location='file:///Users/vitrac/Desktop/M2%20HEC/13%20-%20MLops/project/xhec-mlops-project-student/notebooks/mlruns/868079838670296174', creation_time=1698060879513, experiment_id='868079838670296174', last_update_time=1698060879513, lifecycle_stage='active', name='Abalone Project', tags={}>,\n",
       " <Experiment: artifact_location='file:///Users/vitrac/Desktop/M2%20HEC/13%20-%20MLops/project/xhec-mlops-project-student/notebooks/mlruns/0', creation_time=1698060879506, experiment_id='0', last_update_time=1698060879506, lifecycle_stage='active', name='Default', tags={}>]"
      ]
     },
     "execution_count": 13,
     "metadata": {},
     "output_type": "execute_result"
    }
   ],
   "source": [
    "client = MlflowClient()\n",
    "experiments =  client.search_experiments()\n",
    "experiments"
   ]
  },
  {
   "cell_type": "code",
   "execution_count": 14,
   "metadata": {},
   "outputs": [
    {
     "name": "stdout",
     "output_type": "stream",
     "text": [
      "[2023-10-23 13:34:45 +0200] [18151] [INFO] Starting gunicorn 21.2.0\n",
      "[2023-10-23 13:34:45 +0200] [18151] [INFO] Listening at: http://0.0.0.0:5003 (18151)\n",
      "[2023-10-23 13:34:45 +0200] [18151] [INFO] Using worker: sync\n",
      "[2023-10-23 13:34:45 +0200] [18153] [INFO] Booting worker with pid: 18153\n",
      "[2023-10-23 13:34:45 +0200] [18154] [INFO] Booting worker with pid: 18154\n",
      "[2023-10-23 13:34:46 +0200] [18155] [INFO] Booting worker with pid: 18155\n",
      "[2023-10-23 13:34:46 +0200] [18156] [INFO] Booting worker with pid: 18156\n"
     ]
    }
   ],
   "source": [
    "!mlflow ui --host 0.0.0.0 --port 5003"
   ]
  },
  {
   "cell_type": "code",
   "execution_count": null,
   "metadata": {},
   "outputs": [],
   "source": []
  }
 ],
 "metadata": {
  "kernelspec": {
   "display_name": "Python 3",
   "language": "python",
   "name": "python3"
  },
  "language_info": {
   "codemirror_mode": {
    "name": "ipython",
    "version": 3
   },
   "file_extension": ".py",
   "mimetype": "text/x-python",
   "name": "python",
   "nbconvert_exporter": "python",
   "pygments_lexer": "ipython3",
   "version": "3.8.9"
  },
  "orig_nbformat": 4
 },
 "nbformat": 4,
 "nbformat_minor": 2
}
