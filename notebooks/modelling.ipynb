{
 "cells": [
  {
   "attachments": {},
   "cell_type": "markdown",
   "metadata": {},
   "source": [
    "In this notebook, you should implement a first version of a working machine learning model to predict the age of an Abalone.\n",
    "\n",
    "A few guidelines:\n",
    "- The model does not have to be complex. A simple linear regression model is enough.\n",
    "- You should use MLflow to track your experiments. You can use the MLflow UI to compare your experiments.\n",
    "- Do not push any MLflow data to the repository. Only the code to run the experiments is interesting and should be pushed."
   ]
  },
  {
   "cell_type": "code",
   "execution_count": 1,
   "metadata": {},
   "outputs": [
    {
     "name": "stdout",
     "output_type": "stream",
     "text": [
      "/Users/kaancaylan/Desktop/HEC/MLOPS/xhec-mlops-project-student\n"
     ]
    }
   ],
   "source": [
    "cd .."
   ]
  },
  {
   "cell_type": "code",
   "execution_count": 2,
   "metadata": {},
   "outputs": [],
   "source": [
    "from sklearn.linear_model import LinearRegression\n",
    "from sklearn.compose import ColumnTransformer\n",
    "from sklearn.pipeline import Pipeline\n",
    "from sklearn.preprocessing import StandardScaler, OneHotEncoder\n",
    "import pandas as pd\n",
    "import mlflow\n",
    "import numpy as np\n",
    "from sklearn.model_selection import train_test_split\n",
    "from sklearn.metrics import mean_squared_error"
   ]
  },
  {
   "cell_type": "code",
   "execution_count": 3,
   "metadata": {},
   "outputs": [],
   "source": [
    "def load_data(datapath):\n",
    "    return pd.read_csv(datapath)\n",
    "\n",
    "\n",
    "def preprocessing(df):\n",
    "    df[\"age\"] = df[\"Rings\"] + 1.5\n",
    "    X = df.drop(\"Rings\", axis=1).copy()\n",
    "    y = df.pop(\"age\")\n",
    "    return X, y\n",
    "\n",
    "\n",
    "def get_pipeline(numerical_cols, categorical_cols):\n",
    "    numerical_transformer = StandardScaler()\n",
    "    categorical_transformer = OneHotEncoder()\n",
    "\n",
    "    preprocessor = ColumnTransformer(\n",
    "        transformers=[\n",
    "            (\"num\", numerical_transformer, numerical_cols),\n",
    "            (\"cat\", categorical_transformer, categorical_cols),\n",
    "        ]\n",
    "    )\n",
    "\n",
    "    model = LinearRegression()\n",
    "    pipeline = Pipeline(steps=[(\"preprocessor\", preprocessor), (\"model\", model)])\n",
    "    return pipeline\n",
    "\n",
    "\n",
    "def train_model(X, y):\n",
    "    num_cols = X.select_dtypes(include=np.number).columns\n",
    "    cat_cols = X.select_dtypes(include=\"object\").columns\n",
    "    pipeline = get_pipeline(num_cols, cat_cols)\n",
    "    pipeline.fit(X, y)\n",
    "    return pipeline\n",
    "\n",
    "\n",
    "def evaluate_model(y_true: np.ndarray, y_pred: np.ndarray):\n",
    "    return mean_squared_error(y_true, y_pred, squared=False)"
   ]
  },
  {
   "cell_type": "code",
   "execution_count": 4,
   "metadata": {},
   "outputs": [
    {
     "name": "stderr",
     "output_type": "stream",
     "text": [
      "2023/10/23 11:31:54 WARNING mlflow.utils.autologging_utils: You are using an unsupported version of sklearn. If you encounter errors during autologging, try upgrading / downgrading sklearn to a supported version, or try upgrading MLflow.\n",
      "2023/10/23 11:31:54 WARNING mlflow.utils.autologging_utils: MLflow autologging encountered a warning: \"/Users/kaancaylan/Desktop/HEC/MLOPS/xhec-mlops-project-student/myenv/lib/python3.9/site-packages/mlflow/data/digest_utils.py:26: FutureWarning: DataFrame.applymap has been deprecated. Use DataFrame.map instead.\"\n",
      "2023/10/23 11:31:57 WARNING mlflow.utils.autologging_utils: MLflow autologging encountered a warning: \"/Users/kaancaylan/Desktop/HEC/MLOPS/xhec-mlops-project-student/myenv/lib/python3.9/site-packages/mlflow/data/digest_utils.py:26: FutureWarning: DataFrame.applymap has been deprecated. Use DataFrame.map instead.\"\n",
      "Successfully registered model 'model_0'.\n",
      "2023/10/23 11:31:58 INFO mlflow.tracking._model_registry.client: Waiting up to 300 seconds for model version to finish creation. Model name: model_0, version 1\n",
      "Created version '1' of model 'model_0'.\n"
     ]
    }
   ],
   "source": [
    "mlflow.set_experiment(\"Abalone Age Prediction\")\n",
    "\n",
    "\n",
    "version = 0\n",
    "with mlflow.start_run() as run:\n",
    "    mlflow.sklearn.autolog()\n",
    "    run_id = run.info.run_id\n",
    "\n",
    "    # Set tags for the run\n",
    "    mlflow.set_tag(\"release.version\", f\"2.2.{version}\")\n",
    "    df = load_data(\"data/abalone.csv\")\n",
    "    X, y = preprocessing(df)\n",
    "    X_train, X_test, y_train, y_test = train_test_split(X, y, test_size=0.2, random_state=42)\n",
    "    model = train_model(X_train, y_train)\n",
    "    mlflow.log_params(model.get_params())\n",
    "\n",
    "    y_pred = model.predict(X_test)\n",
    "    rmse = evaluate_model(y_test, y_pred)\n",
    "\n",
    "    mlflow.log_metric(\"Root mean Squared Error\", rmse)\n",
    "    mlflow.sklearn.log_model(model, artifact_path=f\"model_{version}\")\n",
    "\n",
    "    result = mlflow.register_model(f\"runs:/{run_id}/models\", f\"model_{version}\")\n",
    "    version += 1"
   ]
  },
  {
   "cell_type": "code",
   "execution_count": 6,
   "metadata": {},
   "outputs": [
    {
     "data": {
      "text/plain": [
       "[<Experiment: artifact_location='file:///Users/kaancaylan/Desktop/HEC/MLOPS/xhec-mlops-project-student/mlruns/426733563823885988', creation_time=1698053493059, experiment_id='426733563823885988', last_update_time=1698053493059, lifecycle_stage='active', name='Abalone Age Prediction', tags={}>,\n",
       " <Experiment: artifact_location='file:///Users/kaancaylan/Desktop/HEC/MLOPS/xhec-mlops-project-student/mlruns/0', creation_time=1698053492954, experiment_id='0', last_update_time=1698053492954, lifecycle_stage='active', name='Default', tags={}>]"
      ]
     },
     "execution_count": 6,
     "metadata": {},
     "output_type": "execute_result"
    }
   ],
   "source": [
    "client = mlflow.client.MlflowClient()\n",
    "\n",
    "experiments = client.search_experiments()\n",
    "experiments"
   ]
  },
  {
   "cell_type": "code",
   "execution_count": 7,
   "metadata": {},
   "outputs": [
    {
     "name": "stdout",
     "output_type": "stream",
     "text": [
      "[2023-10-23 11:33:33 +0200] [40696] [INFO] Starting gunicorn 21.2.0\n",
      "[2023-10-23 11:33:33 +0200] [40696] [INFO] Listening at: http://0.0.0.0:5002 (40696)\n",
      "[2023-10-23 11:33:33 +0200] [40696] [INFO] Using worker: sync\n",
      "[2023-10-23 11:33:33 +0200] [40697] [INFO] Booting worker with pid: 40697\n",
      "[2023-10-23 11:33:33 +0200] [40698] [INFO] Booting worker with pid: 40698\n",
      "[2023-10-23 11:33:33 +0200] [40699] [INFO] Booting worker with pid: 40699\n",
      "[2023-10-23 11:33:33 +0200] [40700] [INFO] Booting worker with pid: 40700\n",
      "^C\n",
      "[2023-10-23 11:34:22 +0200] [40696] [INFO] Handling signal: int\n",
      "[2023-10-23 11:34:22 +0200] [40699] [INFO] Worker exiting (pid: 40699)\n",
      "[2023-10-23 11:34:22 +0200] [40700] [INFO] Worker exiting (pid: 40700)\n",
      "[2023-10-23 11:34:22 +0200] [40697] [INFO] Worker exiting (pid: 40697)\n",
      "[2023-10-23 11:34:22 +0200] [40698] [INFO] Worker exiting (pid: 40698)\n"
     ]
    }
   ],
   "source": [
    "!mlflow ui --host 0.0.0.0 --port 5002"
   ]
  }
 ],
 "metadata": {
  "kernelspec": {
   "display_name": "mlops",
   "language": "python",
   "name": "mlops"
  },
  "language_info": {
   "codemirror_mode": {
    "name": "ipython",
    "version": 3
   },
   "file_extension": ".py",
   "mimetype": "text/x-python",
   "name": "python",
   "nbconvert_exporter": "python",
   "pygments_lexer": "ipython3",
   "version": "3.9.17"
  },
  "orig_nbformat": 4
 },
 "nbformat": 4,
 "nbformat_minor": 2
}
